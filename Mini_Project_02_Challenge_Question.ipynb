{
  "nbformat": 4,
  "nbformat_minor": 0,
  "metadata": {
    "colab": {
      "provenance": [],
      "authorship_tag": "ABX9TyPwVNbvo1/cSnsz3xVotEoD",
      "include_colab_link": true
    },
    "kernelspec": {
      "name": "python3",
      "display_name": "Python 3"
    },
    "language_info": {
      "name": "python"
    }
  },
  "cells": [
    {
      "cell_type": "markdown",
      "metadata": {
        "id": "view-in-github",
        "colab_type": "text"
      },
      "source": [
        "<a href=\"https://colab.research.google.com/github/JaspreetMaan14/Mini-Project---02/blob/main/Mini_Project_02_Challenge_Question.ipynb\" target=\"_parent\"><img src=\"https://colab.research.google.com/assets/colab-badge.svg\" alt=\"Open In Colab\"/></a>"
      ]
    },
    {
      "cell_type": "markdown",
      "source": [
        "##**CHALLENGE QUESTION**\n",
        "1. Write a python program to sort the list of heterogeneous data.\n",
        "e.g.\n",
        "L = [\"Ram\", 1, \"Shyam\", 2, \"Aman\", 3]\n"
      ],
      "metadata": {
        "id": "Tiq0vqeedExd"
      }
    },
    {
      "cell_type": "code",
      "execution_count": 2,
      "metadata": {
        "colab": {
          "base_uri": "https://localhost:8080/"
        },
        "id": "Rs_jRvJac52Z",
        "outputId": "71a1aea5-758d-4da9-8d4b-23247df890ad"
      },
      "outputs": [
        {
          "output_type": "stream",
          "name": "stdout",
          "text": [
            "Sorted List -->  ['Aman', 'Ram', 'Shyam', 1, 2, 3]\n"
          ]
        }
      ],
      "source": [
        "L = [\"Ram\", 1, \"Shyam\", 2, \"Aman\", 3]\n",
        "\n",
        "# Separate strings and numbers\n",
        "names = []\n",
        "numbers = []\n",
        "\n",
        "for item in L:\n",
        "    if type(item) == str:\n",
        "        names.append(item)\n",
        "    else:\n",
        "        numbers.append(item)\n",
        "\n",
        "# Sort both lists\n",
        "names.sort()\n",
        "numbers.sort()\n",
        "\n",
        "# Combine both\n",
        "sorted_list = names + numbers\n",
        "\n",
        "print(\"Sorted List --> \", sorted_list)\n"
      ]
    }
  ]
}